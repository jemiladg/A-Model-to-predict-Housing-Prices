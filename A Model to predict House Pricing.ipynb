{
 "cells": [
  {
   "cell_type": "markdown",
   "metadata": {},
   "source": [
    "# A Model to predict Housing Prices\n",
    "## Jemila Dávila Girón"
   ]
  },
  {
   "cell_type": "markdown",
   "metadata": {},
   "source": [
    "# Index\n",
    "\n",
    "- [Abstract](#Abstract)\n",
    "- [1. Introduction](#1.-Introduction)\n",
    "- [2. The Data](#2.-The-Data)\n",
    "    - [2.1 Import the Data](#2.1-Import-the-Data)\n",
    "    - [2.2 Data Exploration](#2.2-Data-Exploration)\n",
    "    - [2.3 Data Preparation](#2.3-Data-Preparation)\n",
    "    - [2.4 Correlation](#2.4-Correlation)\n",
    "- [3. Project Description](#3.-Project-Description)\n",
    "    - [3.1 Linear Regression](#3.1-Linear-Regression)\n",
    "    - [3.2 Analysis](#3.2-Analysis)\n",
    "    - [3.3 Results](#3.3-Results)\n",
    "    - [3.4 Verify Your Model Against Test Data](#3.4-Verify-Your-Model-Against-Test-Data)\n",
    "- [Conclusion](#Conclusion)\n",
    "- [References](#References)"
   ]
  },
  {
   "cell_type": "code",
   "execution_count": null,
   "metadata": {},
   "outputs": [],
   "source": []
  },
  {
   "cell_type": "markdown",
   "metadata": {},
   "source": [
    "# Abstract\n",
    "\n",
    "The data analysis performed in this project aims to improve the analysis earlier perfomed by Dr. Williams to build a model that predicts a house sale price in relation to a series of dependent variables.\n",
    "\n",
    "Thanks to the linear regression model that we have used in the analysis, we find out that a 91.17% of the Sales prices can be predicted by using the 7 variables we integrated in our analysis. With this result we accomplish our goal, build a more accurate model than Dr. William's."
   ]
  },
  {
   "cell_type": "markdown",
   "metadata": {},
   "source": [
    "## 1. Introduction\n"
   ]
  },
  {
   "cell_type": "markdown",
   "metadata": {},
   "source": [
    "\n",
    "This project revolves around a dataset regarding several dependent variables used to estimate the price of differents houses. In this data set, the Sales Prices variable is the main independent variable and all the rest of the variables are the independent ones. The goal of this project is to improve the resutls obtained by Dr. Williams in his previous example by perfoming a more accurate data analysis and adding more dependent variables into the analysis.\n",
    "\n",
    "Firstly, for a faster and easier understanding of the project, an abstract and this introduction are provided. Then, in the second chapter of the project, the data is presented and all the variabels used in our analysis are described. In the last two sections of this chapter, we explore the data by creating histograms through making use of the library matplotlib and afterwards we estimate the correlation between the data.\n",
    "\n",
    "In the third chapter of this project, we start by offering an intorduction of what a linear regression model actually is, the origins of it and how it can be implemented in Python. Afterwards, we implemented the linear regression algorithym to obtain the results we were looking for and in the last part of this chapter we reflect on the results obtained.\n",
    "\n",
    "Lastly, we dedicate a chapter to the conclusions we came across while doing this project.\n",
    "A small bibliography has been added after the conclusions chapter."
   ]
  },
  {
   "cell_type": "markdown",
   "metadata": {},
   "source": [
    "## 2. The data\n"
   ]
  },
  {
   "cell_type": "markdown",
   "metadata": {},
   "source": [
    "### 2.1 Import the Data"
   ]
  },
  {
   "cell_type": "code",
   "execution_count": 1,
   "metadata": {},
   "outputs": [],
   "source": [
    "import pandas as pd\n",
    "import numpy as np\n",
    "import matplotlib.pyplot as plt"
   ]
  },
  {
   "cell_type": "markdown",
   "metadata": {},
   "source": [
    "# Data Description\n",
    "**SalePrice** - The property's sale price in dollars. This is the target variable we are trying to predict.\n",
    "\n",
    "**MSSubClass** - The building class\n",
    "\n",
    "**MSZoning** - The general zoning classification\n",
    "\n",
    "**MasVnArea** - Masonary Veneer Area in sq ft\n",
    "\n",
    "**LotFrontage** - Linear feet of street connected to property\n",
    "\n",
    "**LotArea** - Lot size in square feet\n",
    "\n",
    "**Street** - Type of road access\n",
    "\n",
    "**Alley** - Type of alley access LotShape - General shape of property\n",
    "\n",
    "**LandContour** - Flatness of the property\n",
    "\n",
    "**Utilities** - Type of utilities available\n",
    "\n",
    "**LotConfig** - Lot configuration\n",
    "\n",
    "**LotShape** - General shape of property\n",
    "\n",
    "**LandSlope** - Slope of property\n",
    "\n",
    "**Neighborhood** - Physical locations within Ames city limits\n",
    "\n",
    "**Condition1** - Proximity to various conditions"
   ]
  },
  {
   "cell_type": "markdown",
   "metadata": {},
   "source": [
    "A linear Regression model is used in this project in order to predict the house pricing results\n",
    "*Y = X1β1 + X2β2 + X3β3...*\n",
    "\n",
    "Where is Y is the dependent variable (Sales Price) and X is the independent variable. Our goal is to use a number of this columns to predict the dependent variable Y, the sales price by multiplying each row by the Beta "
   ]
  },
  {
   "cell_type": "code",
   "execution_count": 2,
   "metadata": {},
   "outputs": [
    {
     "data": {
      "text/html": [
       "<div>\n",
       "<style scoped>\n",
       "    .dataframe tbody tr th:only-of-type {\n",
       "        vertical-align: middle;\n",
       "    }\n",
       "\n",
       "    .dataframe tbody tr th {\n",
       "        vertical-align: top;\n",
       "    }\n",
       "\n",
       "    .dataframe thead th {\n",
       "        text-align: right;\n",
       "    }\n",
       "</style>\n",
       "<table border=\"1\" class=\"dataframe\">\n",
       "  <thead>\n",
       "    <tr style=\"text-align: right;\">\n",
       "      <th></th>\n",
       "      <th>Unnamed: 0</th>\n",
       "      <th>Id</th>\n",
       "      <th>MSSubClass</th>\n",
       "      <th>MSZoning</th>\n",
       "      <th>LotFrontage</th>\n",
       "      <th>LotArea</th>\n",
       "      <th>Street</th>\n",
       "      <th>Alley</th>\n",
       "      <th>LotShape</th>\n",
       "      <th>LandContour</th>\n",
       "      <th>...</th>\n",
       "      <th>PoolArea</th>\n",
       "      <th>PoolQC</th>\n",
       "      <th>Fence</th>\n",
       "      <th>MiscFeature</th>\n",
       "      <th>MiscVal</th>\n",
       "      <th>MoSold</th>\n",
       "      <th>YrSold</th>\n",
       "      <th>SaleType</th>\n",
       "      <th>SaleCondition</th>\n",
       "      <th>SalePrice</th>\n",
       "    </tr>\n",
       "  </thead>\n",
       "  <tbody>\n",
       "    <tr>\n",
       "      <th>0</th>\n",
       "      <td>0</td>\n",
       "      <td>1</td>\n",
       "      <td>60</td>\n",
       "      <td>RL</td>\n",
       "      <td>65.0</td>\n",
       "      <td>8450</td>\n",
       "      <td>Pave</td>\n",
       "      <td>NaN</td>\n",
       "      <td>Reg</td>\n",
       "      <td>Lvl</td>\n",
       "      <td>...</td>\n",
       "      <td>0</td>\n",
       "      <td>NaN</td>\n",
       "      <td>NaN</td>\n",
       "      <td>NaN</td>\n",
       "      <td>0</td>\n",
       "      <td>2</td>\n",
       "      <td>2008</td>\n",
       "      <td>WD</td>\n",
       "      <td>Normal</td>\n",
       "      <td>208500</td>\n",
       "    </tr>\n",
       "    <tr>\n",
       "      <th>1</th>\n",
       "      <td>1</td>\n",
       "      <td>2</td>\n",
       "      <td>20</td>\n",
       "      <td>RL</td>\n",
       "      <td>80.0</td>\n",
       "      <td>9600</td>\n",
       "      <td>Pave</td>\n",
       "      <td>NaN</td>\n",
       "      <td>Reg</td>\n",
       "      <td>Lvl</td>\n",
       "      <td>...</td>\n",
       "      <td>0</td>\n",
       "      <td>NaN</td>\n",
       "      <td>NaN</td>\n",
       "      <td>NaN</td>\n",
       "      <td>0</td>\n",
       "      <td>5</td>\n",
       "      <td>2007</td>\n",
       "      <td>WD</td>\n",
       "      <td>Normal</td>\n",
       "      <td>181500</td>\n",
       "    </tr>\n",
       "    <tr>\n",
       "      <th>2</th>\n",
       "      <td>2</td>\n",
       "      <td>3</td>\n",
       "      <td>60</td>\n",
       "      <td>RL</td>\n",
       "      <td>68.0</td>\n",
       "      <td>11250</td>\n",
       "      <td>Pave</td>\n",
       "      <td>NaN</td>\n",
       "      <td>IR1</td>\n",
       "      <td>Lvl</td>\n",
       "      <td>...</td>\n",
       "      <td>0</td>\n",
       "      <td>NaN</td>\n",
       "      <td>NaN</td>\n",
       "      <td>NaN</td>\n",
       "      <td>0</td>\n",
       "      <td>9</td>\n",
       "      <td>2008</td>\n",
       "      <td>WD</td>\n",
       "      <td>Normal</td>\n",
       "      <td>223500</td>\n",
       "    </tr>\n",
       "    <tr>\n",
       "      <th>3</th>\n",
       "      <td>3</td>\n",
       "      <td>4</td>\n",
       "      <td>70</td>\n",
       "      <td>RL</td>\n",
       "      <td>60.0</td>\n",
       "      <td>9550</td>\n",
       "      <td>Pave</td>\n",
       "      <td>NaN</td>\n",
       "      <td>IR1</td>\n",
       "      <td>Lvl</td>\n",
       "      <td>...</td>\n",
       "      <td>0</td>\n",
       "      <td>NaN</td>\n",
       "      <td>NaN</td>\n",
       "      <td>NaN</td>\n",
       "      <td>0</td>\n",
       "      <td>2</td>\n",
       "      <td>2006</td>\n",
       "      <td>WD</td>\n",
       "      <td>Abnorml</td>\n",
       "      <td>140000</td>\n",
       "    </tr>\n",
       "    <tr>\n",
       "      <th>4</th>\n",
       "      <td>4</td>\n",
       "      <td>5</td>\n",
       "      <td>60</td>\n",
       "      <td>RL</td>\n",
       "      <td>84.0</td>\n",
       "      <td>14260</td>\n",
       "      <td>Pave</td>\n",
       "      <td>NaN</td>\n",
       "      <td>IR1</td>\n",
       "      <td>Lvl</td>\n",
       "      <td>...</td>\n",
       "      <td>0</td>\n",
       "      <td>NaN</td>\n",
       "      <td>NaN</td>\n",
       "      <td>NaN</td>\n",
       "      <td>0</td>\n",
       "      <td>12</td>\n",
       "      <td>2008</td>\n",
       "      <td>WD</td>\n",
       "      <td>Normal</td>\n",
       "      <td>250000</td>\n",
       "    </tr>\n",
       "  </tbody>\n",
       "</table>\n",
       "<p>5 rows × 82 columns</p>\n",
       "</div>"
      ],
      "text/plain": [
       "   Unnamed: 0  Id  MSSubClass MSZoning  LotFrontage  LotArea Street Alley  \\\n",
       "0           0   1          60       RL         65.0     8450   Pave   NaN   \n",
       "1           1   2          20       RL         80.0     9600   Pave   NaN   \n",
       "2           2   3          60       RL         68.0    11250   Pave   NaN   \n",
       "3           3   4          70       RL         60.0     9550   Pave   NaN   \n",
       "4           4   5          60       RL         84.0    14260   Pave   NaN   \n",
       "\n",
       "  LotShape LandContour  ... PoolArea PoolQC Fence MiscFeature MiscVal MoSold  \\\n",
       "0      Reg         Lvl  ...        0    NaN   NaN         NaN       0      2   \n",
       "1      Reg         Lvl  ...        0    NaN   NaN         NaN       0      5   \n",
       "2      IR1         Lvl  ...        0    NaN   NaN         NaN       0      9   \n",
       "3      IR1         Lvl  ...        0    NaN   NaN         NaN       0      2   \n",
       "4      IR1         Lvl  ...        0    NaN   NaN         NaN       0     12   \n",
       "\n",
       "  YrSold SaleType  SaleCondition  SalePrice  \n",
       "0   2008       WD         Normal     208500  \n",
       "1   2007       WD         Normal     181500  \n",
       "2   2008       WD         Normal     223500  \n",
       "3   2006       WD        Abnorml     140000  \n",
       "4   2008       WD         Normal     250000  \n",
       "\n",
       "[5 rows x 82 columns]"
      ]
     },
     "execution_count": 2,
     "metadata": {},
     "output_type": "execute_result"
    }
   ],
   "source": [
    "data = pd.read_csv('houseSmallData.csv')\n",
    "#First we will see the shape of our data and afterwards we will chop it down. For that, we will make use of some training data using just 20 rows.\n",
    "data.shape\n",
    "train = data. iloc[0:20,:]\n",
    "train.head()"
   ]
  },
  {
   "cell_type": "code",
   "execution_count": 3,
   "metadata": {},
   "outputs": [
    {
     "data": {
      "text/plain": [
       "0     208500\n",
       "1     181500\n",
       "2     223500\n",
       "3     140000\n",
       "4     250000\n",
       "5     143000\n",
       "6     307000\n",
       "7     200000\n",
       "8     129900\n",
       "9     118000\n",
       "10    129500\n",
       "11    345000\n",
       "12    144000\n",
       "13    279500\n",
       "14    157000\n",
       "15    132000\n",
       "16    149000\n",
       "17     90000\n",
       "18    159000\n",
       "19    139000\n",
       "Name: SalePrice, dtype: int64"
      ]
     },
     "execution_count": 3,
     "metadata": {},
     "output_type": "execute_result"
    }
   ],
   "source": [
    "# investigate Sale Price\n",
    "train['SalePrice']"
   ]
  },
  {
   "cell_type": "markdown",
   "metadata": {},
   "source": [
    "### 2.2 Data Exploration"
   ]
  },
  {
   "cell_type": "code",
   "execution_count": 4,
   "metadata": {},
   "outputs": [
    {
     "data": {
      "text/plain": [
       "(array([1., 6., 5., 1., 2., 1., 1., 1., 1., 1.]),\n",
       " array([ 90000., 115500., 141000., 166500., 192000., 217500., 243000.,\n",
       "        268500., 294000., 319500., 345000.]),\n",
       " <BarContainer object of 10 artists>)"
      ]
     },
     "execution_count": 4,
     "metadata": {},
     "output_type": "execute_result"
    },
    {
     "data": {
      "image/png": "[encoded data removed]",
      "text/plain": [
       "<Figure size 640x480 with 1 Axes>"
      ]
     },
     "metadata": {},
     "output_type": "display_data"
    }
   ],
   "source": [
    "# plot hist to see what the distribution of the Sales prices is\n",
    "plt.hist(train[ 'SalePrice'])"
   ]
  },
  {
   "cell_type": "code",
   "execution_count": 5,
   "metadata": {},
   "outputs": [
    {
     "data": {
      "text/plain": [
       "(20, 40)"
      ]
     },
     "execution_count": 5,
     "metadata": {},
     "output_type": "execute_result"
    }
   ],
   "source": [
    "# select numeric columns\n",
    "# calculate correlation factor. The correlation factor will tell us which columns are important for us to include.\n",
    "numeric = train.select_dtypes (include=[np.number])\n",
    "numeric.shape"
   ]
  },
  {
   "cell_type": "markdown",
   "metadata": {},
   "source": [
    "### 2.3 Data Preparation"
   ]
  },
  {
   "cell_type": "markdown",
   "metadata": {},
   "source": [
    "### 2.4 Correlation"
   ]
  },
  {
   "cell_type": "code",
   "execution_count": 6,
   "metadata": {},
   "outputs": [
    {
     "data": {
      "text/plain": [
       "Index(['SalePrice', 'OverallQual', 'MasVnrArea', 'FullBath', 'TotRmsAbvGrd',\n",
       "       'YearBuilt', 'YearRemodAdd', 'GarageArea'],\n",
       "      dtype='object')"
      ]
     },
     "execution_count": 6,
     "metadata": {},
     "output_type": "execute_result"
    }
   ],
   "source": [
    "#We will figure out the correlation by just using the numeric columns\n",
    "corr = numeric.corr()\n",
    "#Out of this correlation, we want to find out what's correlated with Sales Prices. Out of this columns, we want to pick out the most important at the top and the least important at the bottom.\n",
    "cols = corr['SalePrice'].sort_values(ascending=False)[0:8].index\n",
    "cols"
   ]
  },
  {
   "cell_type": "code",
   "execution_count": 7,
   "metadata": {},
   "outputs": [
    {
     "data": {
      "text/html": [
       "<div>\n",
       "<style scoped>\n",
       "    .dataframe tbody tr th:only-of-type {\n",
       "        vertical-align: middle;\n",
       "    }\n",
       "\n",
       "    .dataframe tbody tr th {\n",
       "        vertical-align: top;\n",
       "    }\n",
       "\n",
       "    .dataframe thead th {\n",
       "        text-align: right;\n",
       "    }\n",
       "</style>\n",
       "<table border=\"1\" class=\"dataframe\">\n",
       "  <thead>\n",
       "    <tr style=\"text-align: right;\">\n",
       "      <th></th>\n",
       "      <th>OverallQual</th>\n",
       "      <th>MasVnrArea</th>\n",
       "      <th>FullBath</th>\n",
       "      <th>TotRmsAbvGrd</th>\n",
       "      <th>YearBuilt</th>\n",
       "      <th>YearRemodAdd</th>\n",
       "      <th>GarageArea</th>\n",
       "    </tr>\n",
       "  </thead>\n",
       "  <tbody>\n",
       "    <tr>\n",
       "      <th>0</th>\n",
       "      <td>7</td>\n",
       "      <td>196.0</td>\n",
       "      <td>2</td>\n",
       "      <td>8</td>\n",
       "      <td>2003</td>\n",
       "      <td>2003</td>\n",
       "      <td>548</td>\n",
       "    </tr>\n",
       "    <tr>\n",
       "      <th>1</th>\n",
       "      <td>6</td>\n",
       "      <td>0.0</td>\n",
       "      <td>2</td>\n",
       "      <td>6</td>\n",
       "      <td>1976</td>\n",
       "      <td>1976</td>\n",
       "      <td>460</td>\n",
       "    </tr>\n",
       "    <tr>\n",
       "      <th>2</th>\n",
       "      <td>7</td>\n",
       "      <td>162.0</td>\n",
       "      <td>2</td>\n",
       "      <td>6</td>\n",
       "      <td>2001</td>\n",
       "      <td>2002</td>\n",
       "      <td>608</td>\n",
       "    </tr>\n",
       "    <tr>\n",
       "      <th>3</th>\n",
       "      <td>7</td>\n",
       "      <td>0.0</td>\n",
       "      <td>1</td>\n",
       "      <td>7</td>\n",
       "      <td>1915</td>\n",
       "      <td>1970</td>\n",
       "      <td>642</td>\n",
       "    </tr>\n",
       "    <tr>\n",
       "      <th>4</th>\n",
       "      <td>8</td>\n",
       "      <td>350.0</td>\n",
       "      <td>2</td>\n",
       "      <td>9</td>\n",
       "      <td>2000</td>\n",
       "      <td>2000</td>\n",
       "      <td>836</td>\n",
       "    </tr>\n",
       "    <tr>\n",
       "      <th>5</th>\n",
       "      <td>5</td>\n",
       "      <td>0.0</td>\n",
       "      <td>1</td>\n",
       "      <td>5</td>\n",
       "      <td>1993</td>\n",
       "      <td>1995</td>\n",
       "      <td>480</td>\n",
       "    </tr>\n",
       "    <tr>\n",
       "      <th>6</th>\n",
       "      <td>8</td>\n",
       "      <td>186.0</td>\n",
       "      <td>2</td>\n",
       "      <td>7</td>\n",
       "      <td>2004</td>\n",
       "      <td>2005</td>\n",
       "      <td>636</td>\n",
       "    </tr>\n",
       "    <tr>\n",
       "      <th>7</th>\n",
       "      <td>7</td>\n",
       "      <td>240.0</td>\n",
       "      <td>2</td>\n",
       "      <td>7</td>\n",
       "      <td>1973</td>\n",
       "      <td>1973</td>\n",
       "      <td>484</td>\n",
       "    </tr>\n",
       "    <tr>\n",
       "      <th>8</th>\n",
       "      <td>7</td>\n",
       "      <td>0.0</td>\n",
       "      <td>2</td>\n",
       "      <td>8</td>\n",
       "      <td>1931</td>\n",
       "      <td>1950</td>\n",
       "      <td>468</td>\n",
       "    </tr>\n",
       "    <tr>\n",
       "      <th>9</th>\n",
       "      <td>5</td>\n",
       "      <td>0.0</td>\n",
       "      <td>1</td>\n",
       "      <td>5</td>\n",
       "      <td>1939</td>\n",
       "      <td>1950</td>\n",
       "      <td>205</td>\n",
       "    </tr>\n",
       "    <tr>\n",
       "      <th>10</th>\n",
       "      <td>5</td>\n",
       "      <td>0.0</td>\n",
       "      <td>1</td>\n",
       "      <td>5</td>\n",
       "      <td>1965</td>\n",
       "      <td>1965</td>\n",
       "      <td>384</td>\n",
       "    </tr>\n",
       "    <tr>\n",
       "      <th>11</th>\n",
       "      <td>9</td>\n",
       "      <td>286.0</td>\n",
       "      <td>3</td>\n",
       "      <td>11</td>\n",
       "      <td>2005</td>\n",
       "      <td>2006</td>\n",
       "      <td>736</td>\n",
       "    </tr>\n",
       "    <tr>\n",
       "      <th>12</th>\n",
       "      <td>5</td>\n",
       "      <td>0.0</td>\n",
       "      <td>1</td>\n",
       "      <td>4</td>\n",
       "      <td>1962</td>\n",
       "      <td>1962</td>\n",
       "      <td>352</td>\n",
       "    </tr>\n",
       "    <tr>\n",
       "      <th>13</th>\n",
       "      <td>7</td>\n",
       "      <td>306.0</td>\n",
       "      <td>2</td>\n",
       "      <td>7</td>\n",
       "      <td>2006</td>\n",
       "      <td>2007</td>\n",
       "      <td>840</td>\n",
       "    </tr>\n",
       "    <tr>\n",
       "      <th>14</th>\n",
       "      <td>6</td>\n",
       "      <td>212.0</td>\n",
       "      <td>1</td>\n",
       "      <td>5</td>\n",
       "      <td>1960</td>\n",
       "      <td>1960</td>\n",
       "      <td>352</td>\n",
       "    </tr>\n",
       "    <tr>\n",
       "      <th>15</th>\n",
       "      <td>7</td>\n",
       "      <td>0.0</td>\n",
       "      <td>1</td>\n",
       "      <td>5</td>\n",
       "      <td>1929</td>\n",
       "      <td>2001</td>\n",
       "      <td>576</td>\n",
       "    </tr>\n",
       "    <tr>\n",
       "      <th>16</th>\n",
       "      <td>6</td>\n",
       "      <td>180.0</td>\n",
       "      <td>1</td>\n",
       "      <td>5</td>\n",
       "      <td>1970</td>\n",
       "      <td>1970</td>\n",
       "      <td>480</td>\n",
       "    </tr>\n",
       "    <tr>\n",
       "      <th>17</th>\n",
       "      <td>4</td>\n",
       "      <td>0.0</td>\n",
       "      <td>2</td>\n",
       "      <td>6</td>\n",
       "      <td>1967</td>\n",
       "      <td>1967</td>\n",
       "      <td>516</td>\n",
       "    </tr>\n",
       "    <tr>\n",
       "      <th>18</th>\n",
       "      <td>5</td>\n",
       "      <td>0.0</td>\n",
       "      <td>1</td>\n",
       "      <td>6</td>\n",
       "      <td>2004</td>\n",
       "      <td>2004</td>\n",
       "      <td>576</td>\n",
       "    </tr>\n",
       "    <tr>\n",
       "      <th>19</th>\n",
       "      <td>5</td>\n",
       "      <td>0.0</td>\n",
       "      <td>1</td>\n",
       "      <td>6</td>\n",
       "      <td>1958</td>\n",
       "      <td>1965</td>\n",
       "      <td>294</td>\n",
       "    </tr>\n",
       "  </tbody>\n",
       "</table>\n",
       "</div>"
      ],
      "text/plain": [
       "    OverallQual  MasVnrArea  FullBath  TotRmsAbvGrd  YearBuilt  YearRemodAdd  \\\n",
       "0             7       196.0         2             8       2003          2003   \n",
       "1             6         0.0         2             6       1976          1976   \n",
       "2             7       162.0         2             6       2001          2002   \n",
       "3             7         0.0         1             7       1915          1970   \n",
       "4             8       350.0         2             9       2000          2000   \n",
       "5             5         0.0         1             5       1993          1995   \n",
       "6             8       186.0         2             7       2004          2005   \n",
       "7             7       240.0         2             7       1973          1973   \n",
       "8             7         0.0         2             8       1931          1950   \n",
       "9             5         0.0         1             5       1939          1950   \n",
       "10            5         0.0         1             5       1965          1965   \n",
       "11            9       286.0         3            11       2005          2006   \n",
       "12            5         0.0         1             4       1962          1962   \n",
       "13            7       306.0         2             7       2006          2007   \n",
       "14            6       212.0         1             5       1960          1960   \n",
       "15            7         0.0         1             5       1929          2001   \n",
       "16            6       180.0         1             5       1970          1970   \n",
       "17            4         0.0         2             6       1967          1967   \n",
       "18            5         0.0         1             6       2004          2004   \n",
       "19            5         0.0         1             6       1958          1965   \n",
       "\n",
       "    GarageArea  \n",
       "0          548  \n",
       "1          460  \n",
       "2          608  \n",
       "3          642  \n",
       "4          836  \n",
       "5          480  \n",
       "6          636  \n",
       "7          484  \n",
       "8          468  \n",
       "9          205  \n",
       "10         384  \n",
       "11         736  \n",
       "12         352  \n",
       "13         840  \n",
       "14         352  \n",
       "15         576  \n",
       "16         480  \n",
       "17         516  \n",
       "18         576  \n",
       "19         294  "
      ]
     },
     "execution_count": 7,
     "metadata": {},
     "output_type": "execute_result"
    }
   ],
   "source": [
    "# pick out & cols and y = SalePricee\n",
    "X = train[cols]\n",
    "Y = train['SalePrice']\n",
    "X = X.drop(['SalePrice'], axis = 1)\n",
    "X"
   ]
  },
  {
   "cell_type": "markdown",
   "metadata": {},
   "source": [
    "## 3. Project Description"
   ]
  },
  {
   "cell_type": "markdown",
   "metadata": {},
   "source": [
    "This analysis improves the analysis performed by Dr. Williams because while the professor only used two variables (*OverallQual*, *MasVnrArea*), we have added 5 more variables to the analysis (*FullBath*, *TotRmsAbvGrd*, *YearBuilt* and *YearRemodAdd*, 'GarageArea'). This turns in a total of 7 variabales analysed in this project.\n",
    "\n",
    "We have selected these 5 new variables because we reckon they refer to important data to be considered when purchasing a house and/or when to estimate the value of a house. By including these variables to the project, it elevates the chances of obtaining a more accurate price estimation. The more variables are included in the analysis, the higher and accurate the final porcentaje estimation will be."
   ]
  },
  {
   "cell_type": "markdown",
   "metadata": {},
   "source": [
    "### 3.1 Linear Regression"
   ]
  },
  {
   "cell_type": "markdown",
   "metadata": {},
   "source": [
    "### What is Linear Regression?\n",
    "\n",
    "Linear regression is a fundamental statistical technique used for modeling the relationship between a dependent variable and one or more independent variables. It assumes that there exists a linear relationship between the independent variables and the dependent variable. In other words, it seeks to find the best-fitting straight line through the data points.\n",
    "\n",
    "### Origins of the Linear Regression\n",
    "\n",
    "The origin of linear regression dates back to the early 19th century when it was first introduced by Sir Francis Galton, a British mathematician and biologist. The method gained popularity in the field of statistics and is widely used in various fields such as economics, finance, engineering, and social sciences.\n",
    "\n",
    "### Mathematical explaination and formulas\n",
    "\n",
    "Mathematically, linear regression aims to find the coefficients of the linear equation that best represents the relationship between the independent variables *x* and the dependent variable *y*. The linear equation takes the form:\n",
    "\n",
    "*Y = X1β1 + X2β2 + X3β3...*\n",
    "\n",
    "Where:\n",
    "\n",
    "* y is the dependent variable.\n",
    "* *x1*, *x2*, *x3*,... *xn* are the independent variables.\n",
    "* *β1*, *β2*,*β3*,... *βn* are the coefficients (parameters) to be estimated.\n",
    "* ε represents the error term.\n",
    "\n"
   ]
  },
  {
   "cell_type": "markdown",
   "metadata": {},
   "source": [
    "### How to implement Linear Regression in Python\n",
    "\n",
    "To implement the algorithim in Python we need to follow the following steps:\n",
    "\n",
    "1. Prepare the dataset by cleaning and splitting it into training and testing sets.\n",
    "2. Initialize the Linear Regression model using libraries like *scikit-learn*.\n",
    "3. Train the model using the training data.\n",
    "4. Evaluate the model's performance using metrics like Mean Squared Error.\n",
    "5. Make predictions on new data using the trained model.\n"
   ]
  },
  {
   "cell_type": "markdown",
   "metadata": {},
   "source": [
    "### 3.2 Analysis "
   ]
  },
  {
   "cell_type": "code",
   "execution_count": 8,
   "metadata": {},
   "outputs": [],
   "source": [
    "# build Linear Regression Model\n",
    "from sklearn import linear_model\n",
    "# linear_model.LinearRegression() is used to instantiate the linear regression model so it can be implemented.\n",
    "lr = linear_model.LinearRegression()\n",
    "# To build the model we need to fit the data. The function fit () fits the model according to the given training data.\n",
    "model = lr.fit(X, Y)\n",
    "predictions = model.predict(X)"
   ]
  },
  {
   "cell_type": "code",
   "execution_count": 9,
   "metadata": {},
   "outputs": [
    {
     "data": {
      "text/plain": [
       "0.9117220871982935"
      ]
     },
     "execution_count": 9,
     "metadata": {},
     "output_type": "execute_result"
    }
   ],
   "source": [
    "# How good is the model. The function score () returns the mean accuracy score of our model.\n",
    "model.score(X,Y) #This will tell us how much(%) of the Sales Prices can be predicted by the dependent variables"
   ]
  },
  {
   "cell_type": "markdown",
   "metadata": {},
   "source": [
    "#### 91% is already predicted from just by the first 5 variables, which improves Dr. Williams prediction by 0.16 %"
   ]
  },
  {
   "cell_type": "code",
   "execution_count": 10,
   "metadata": {},
   "outputs": [
    {
     "data": {
      "text/plain": [
       "<matplotlib.collections.PathCollection at 0x160c51a90>"
      ]
     },
     "execution_count": 10,
     "metadata": {},
     "output_type": "execute_result"
    },
    {
     "data": {
      "image/png": "[encoded data removed]",
      "text/plain": [
       "<Figure size 640x480 with 1 Axes>"
      ]
     },
     "metadata": {},
     "output_type": "display_data"
    }
   ],
   "source": [
    "# Scatter plot of predictions\n",
    "plt.scatter(predictions, Y)"
   ]
  },
  {
   "cell_type": "markdown",
   "metadata": {},
   "source": [
    "#### We can observe that the data shown in the plot represents a much clearer and visible straight line than the result obtained by Dr. Williams"
   ]
  },
  {
   "cell_type": "markdown",
   "metadata": {},
   "source": [
    "### 3.3 Results"
   ]
  },
  {
   "cell_type": "markdown",
   "metadata": {},
   "source": [
    "To build our Linear Regression Model and improve Dr.Williams model we have followed the following steps:\n",
    "1. Firstly, we explore the data by creating a graph out of the **Sales Prices** variable alone to see how the data looked like.\n",
    "2. Then, we figured out the correlation of the data by just using the numeric columns making use of the following code:\n",
    "corr = numeric.corr()\n",
    "By doing this, we waned to find out what's correlated with Sales Prices.\n",
    "3. Moving forward, we started implementing the Linear Regression algorithym by importing the sklearn import linear_model from *sklearn*\n",
    "4. Afterwards, we instantiate the linear regression model using the code **linear_model.LinearRegression()** so it can be implemented. in order to build the model, we used the funtion **fit()** accordign to the given data.\n",
    "5. in the fifth place, we tested how good our model was. For that, we used the funciton **score()** to obtained the accuracy of our model. The function returned a 91.17%, which is much accurate than the 75% obtained in the model by Dr. Williams.\n",
    "6. Lastly, we scattered the results creating a plot with Matplotlib. The graph obtaiend showed that the data follows a clear direction than the one presented by Dr. William's previous model."
   ]
  },
  {
   "cell_type": "markdown",
   "metadata": {},
   "source": [
    "## Conclusion"
   ]
  },
  {
   "cell_type": "markdown",
   "metadata": {},
   "source": [
    "The result we obtained from our analysis shows that a 91.17% of the independent Variable **Sales Prices** can be predicted by the 7 dependent variables we introduced in our analysis. Dr. Williams made used of\n",
    "only two variables and he obtained that a 75% of the Sales Prices independet variable could be predicted.\n",
    "Therefore, we can observe that our model worked better because the percentage we obtaiend is higher and subsequently, more accurate.\n",
    "\n",
    "From this project, we can extract the conclusion that the more independent variables we intorduce in our analysis, the more accurate the prediction to the independent variable will be."
   ]
  },
  {
   "cell_type": "markdown",
   "metadata": {},
   "source": [
    "## References"
   ]
  },
  {
   "cell_type": "markdown",
   "metadata": {},
   "source": [
    "- Stojiljković, Mirko. \"Linear Regression in Python\". Real Python. 04/10/2024. https://realpython.com/linear-regression-in-python/"
   ]
  },
  {
   "cell_type": "code",
   "execution_count": null,
   "metadata": {},
   "outputs": [],
   "source": []
  }
 ],
 "metadata": {
  "kernelspec": {
   "display_name": "Python 3 (ipykernel)",
   "language": "python",
   "name": "python3"
  },
  "language_info": {
   "codemirror_mode": {
    "name": "ipython",
    "version": 3
   },
   "file_extension": ".py",
   "mimetype": "text/x-python",
   "name": "python",
   "nbconvert_exporter": "python",
   "pygments_lexer": "ipython3",
   "version": "3.11.5"
  }
 },
 "nbformat": 4,
 "nbformat_minor": 4
}
